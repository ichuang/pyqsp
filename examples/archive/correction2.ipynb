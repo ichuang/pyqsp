{
 "cells": [
  {
   "cell_type": "markdown",
   "id": "c2f048a4-cf11-4409-9609-5552467d71da",
   "metadata": {},
   "source": [
    "# Correction protocol v2"
   ]
  },
  {
   "cell_type": "code",
   "execution_count": 3,
   "id": "51e2392a-10aa-4847-88f1-cb98a0025291",
   "metadata": {},
   "outputs": [],
   "source": [
    "import pyqsp\n",
    "from pyqsp.gadgets import *\n",
    "from tqdm.notebook import tqdm\n",
    "from matplotlib import pyplot as plt\n",
    "\n",
    "X = np.array([\n",
    "    [0, 1],\n",
    "    [1, 0]\n",
    "])"
   ]
  },
  {
   "cell_type": "code",
   "execution_count": 67,
   "id": "1ce380b2-d4ce-451d-ab31-0e8fa57f2438",
   "metadata": {},
   "outputs": [],
   "source": [
    "# Creates and extraction gadget\n",
    "deg = 12\n",
    "G_ext = ExtractionGadget(deg, \"G_ext\")"
   ]
  },
  {
   "cell_type": "code",
   "execution_count": 68,
   "id": "efe52180-c534-4156-a382-d529526252d1",
   "metadata": {},
   "outputs": [],
   "source": [
    "#G_ext_int = G.interlink(G_ext, [((\"G\", 0), (\"G_ext\", 0), None)])"
   ]
  },
  {
   "cell_type": "code",
   "execution_count": 70,
   "id": "b62fb312-eae5-4723-90b4-81a8777ac5b1",
   "metadata": {},
   "outputs": [],
   "source": [
    "U = G_ext.get_qsp_unitary(('G_ext', 0), rot={('G_ext', 0) : 2.5}) # Gets the corresponding QSP unitary"
   ]
  },
  {
   "cell_type": "code",
   "execution_count": 72,
   "id": "fc526818-754e-4968-b638-d0db28dccfe1",
   "metadata": {},
   "outputs": [],
   "source": [
    "# Demonstrates that the extraction protocol has succeeded\n",
    "P = lambda x : U({('G_ext', 0): x}) # QSP polynomial"
   ]
  },
  {
   "cell_type": "code",
   "execution_count": 73,
   "id": "9bf7525b-b163-495e-83b8-5a0122c970ef",
   "metadata": {},
   "outputs": [
    {
     "data": {
      "text/plain": [
       "array([[ 1.00000000e+00-3.11972670e-14j,  4.67029556e-08+4.50193352e-08j],\n",
       "       [-4.67029556e-08+4.50193352e-08j,  1.00000000e+00+3.10862447e-14j]])"
      ]
     },
     "execution_count": 73,
     "metadata": {},
     "output_type": "execute_result"
    }
   ],
   "source": [
    "1j * X @ P(0.1) @ (Rz(2.5) @ Rz(2.5))"
   ]
  },
  {
   "cell_type": "code",
   "execution_count": 74,
   "id": "9485b4f4-ef78-4cf0-bea1-6a2218313e11",
   "metadata": {},
   "outputs": [],
   "source": [
    "def func(phi, theta):\n",
    "    U = G_ext.get_qsp_unitary(('G_ext', 0), rot={('G_ext', 0) : theta})\n",
    "    P = lambda x : U({('G_ext', 0): x}) # QSP polynomial\n",
    "    return np.linalg.norm((1j * X @ P(phi) @ (Rz(theta) @ Rz(theta)) - np.eye(2)))"
   ]
  },
  {
   "cell_type": "code",
   "execution_count": 75,
   "id": "cbfeb3e5-db38-4384-813e-f9f799c79ddd",
   "metadata": {},
   "outputs": [
    {
     "data": {
      "application/vnd.jupyter.widget-view+json": {
       "model_id": "528b43ea3a1445adaafad7b4bb68a7f9",
       "version_major": 2,
       "version_minor": 0
      },
      "text/plain": [
       "  0%|          | 0/50 [00:00<?, ?it/s]"
      ]
     },
     "metadata": {},
     "output_type": "display_data"
    }
   ],
   "source": [
    "from matplotlib import pyplot as plt\n",
    "\n",
    "Phi = np.linspace(-1, 1, 50)\n",
    "Theta = np.linspace(-np.pi, np.pi, 50)\n",
    "\n",
    "Y = [[func(p, q) for q in Theta] for p in tqdm(Phi)]"
   ]
  },
  {
   "cell_type": "code",
   "execution_count": 76,
   "id": "675ba7b4-5e3b-42e1-a990-c4b3e751610a",
   "metadata": {},
   "outputs": [
    {
     "data": {
      "text/plain": [
       "<matplotlib.colorbar.Colorbar at 0x7fb0d18e5bb0>"
      ]
     },
     "execution_count": 76,
     "metadata": {},
     "output_type": "execute_result"
    },
    {
     "data": {
      "image/png": "[encoded data removed]",
      "text/plain": [
       "<Figure size 480x480 with 2 Axes>"
      ]
     },
     "metadata": {},
     "output_type": "display_data"
    }
   ],
   "source": [
    "plt.matshow(Y)\n",
    "plt.colorbar()"
   ]
  }
 ],
 "metadata": {
  "kernelspec": {
   "display_name": "Python 3 (ipykernel)",
   "language": "python",
   "name": "python3"
  },
  "language_info": {
   "codemirror_mode": {
    "name": "ipython",
    "version": 3
   },
   "file_extension": ".py",
   "mimetype": "text/x-python",
   "name": "python",
   "nbconvert_exporter": "python",
   "pygments_lexer": "ipython3",
   "version": "3.8.10"
  }
 },
 "nbformat": 4,
 "nbformat_minor": 5
}
