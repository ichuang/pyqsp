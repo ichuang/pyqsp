{
 "cells": [
  {
   "cell_type": "markdown",
   "id": "b12aaf41-3a8e-4133-a7fa-1b50ecef041d",
   "metadata": {},
   "source": [
    "# Correction protocol"
   ]
  },
  {
   "cell_type": "markdown",
   "id": "1258359b-7489-48f4-a437-b3f1fa266baa",
   "metadata": {},
   "source": [
    "The purpose of this Notebook is to explain the correction procedure and provide all illuminating example."
   ]
  },
  {
   "cell_type": "code",
   "execution_count": 1,
   "id": "0fe8b0f4-620b-40e8-98fe-8aa2f29cd6c2",
   "metadata": {},
   "outputs": [],
   "source": [
    "import pyqsp\n",
    "from pyqsp.gadgets import *\n",
    "from tqdm.notebook import tqdm\n",
    "from matplotlib import pyplot as plt\n",
    "\n",
    "X = np.array([\n",
    "    [0, 1],\n",
    "    [1, 0]\n",
    "])"
   ]
  },
  {
   "cell_type": "code",
   "execution_count": 2,
   "id": "13a7a2bc-ca4e-400d-9ceb-0fbfd09870ca",
   "metadata": {},
   "outputs": [],
   "source": [
    "Xi = [[1.0, 2.0, -2.0, -1.0]]\n",
    "S = [[0, 0, 0]]\n",
    "\n",
    "# Creates an example atomic gadget\n",
    "G = AtomicGadget(Xi, S, \"G\")\n",
    "\n",
    "Xi = [[2.2, 3.2, -3.2, -2.2]]\n",
    "S = [[0, 1, 0]]\n",
    "\n",
    "# Creates another atomic gadget\n",
    "G_prime = AtomicGadget(Xi, S, \"G_prime\")\n",
    "\n",
    "# Creates and extraction gadget\n",
    "deg = 29\n",
    "G_ext = ExtractionGadget(deg, \"G_ext\")"
   ]
  },
  {
   "cell_type": "code",
   "execution_count": 3,
   "id": "25a6f1cb-53e4-44e9-946c-cec453d662a5",
   "metadata": {},
   "outputs": [],
   "source": [
    "#G_interlink = G.interlink(G_prime, [((\"G\", 0), (\"G_prime\", 0), 4)])\n",
    "G_ext_int = G.interlink(G_ext, [((\"G\", 0), (\"G_ext\", 0), None)])"
   ]
  },
  {
   "cell_type": "code",
   "execution_count": 4,
   "id": "43eff9b0-8e93-40ee-bffe-71a511a9497f",
   "metadata": {
    "tags": []
   },
   "outputs": [],
   "source": [
    "#G_interlink.get_qsp_unitary((\"G_prime\", 0), twist=None)"
   ]
  },
  {
   "cell_type": "code",
   "execution_count": 21,
   "id": "5e701f52-00c8-44ad-a939-e9670e591d04",
   "metadata": {},
   "outputs": [],
   "source": [
    "U = G.get_qsp_unitary(('G', 0), rot={('G', 0) : 0.5}, correction=20) # Gets the corresponding QSP unitary\n",
    "Up = G.get_qsp_unitary(('G', 0), rot={('G', 0) : 0.0}, correction=0) # Gets the corresponding QSP unitary"
   ]
  },
  {
   "cell_type": "code",
   "execution_count": 22,
   "id": "f7f5ab53-9ce2-4566-b720-e76100a0410e",
   "metadata": {},
   "outputs": [],
   "source": [
    "# Demonstrates that the extraction protocol has succeeded\n",
    "P = lambda x, y : U({('G', 0): x, ('G', 1): y}) # QSP polynomial\n",
    "Pp = lambda x, y : Up({('G', 0): x, ('G', 1): y}) # QSP polynomial"
   ]
  },
  {
   "cell_type": "code",
   "execution_count": 26,
   "id": "729371ad-f81f-4640-9d29-cc389cc4d086",
   "metadata": {},
   "outputs": [
    {
     "data": {
      "text/plain": [
       "(0.9709216511953029+0.22570069938870208j)"
      ]
     },
     "execution_count": 26,
     "metadata": {},
     "output_type": "execute_result"
    }
   ],
   "source": [
    "(P(0.1, 0.2) - Pp(0.1, 0.2))[0][3]"
   ]
  },
  {
   "cell_type": "code",
   "execution_count": 42,
   "id": "eb4a6d37-7308-45f6-a8f5-0a84ea4f0874",
   "metadata": {},
   "outputs": [
    {
     "data": {
      "text/plain": [
       "(0.4776031328170261+0.14713402342307583j)"
      ]
     },
     "execution_count": 42,
     "metadata": {},
     "output_type": "execute_result"
    }
   ],
   "source": [
    "P(0.1, 0.2)"
   ]
  },
  {
   "cell_type": "code",
   "execution_count": 30,
   "id": "5598d544-6704-44fb-a553-3a7a7a8e8dea",
   "metadata": {},
   "outputs": [
    {
     "data": {
      "text/plain": [
       "(1.0491668429963327e-17+4.838119278272717e-18j)"
      ]
     },
     "execution_count": 30,
     "metadata": {},
     "output_type": "execute_result"
    }
   ],
   "source": [
    "P(0.1, 0.2)"
   ]
  },
  {
   "cell_type": "code",
   "execution_count": 26,
   "id": "18371086-070d-4b3c-be86-051ca903727c",
   "metadata": {},
   "outputs": [
    {
     "data": {
      "text/plain": [
       "array([[0.54030231+0.84147098j, 0.        +0.j        ],\n",
       "       [0.        +0.j        , 0.54030231-0.84147098j]])"
      ]
     },
     "execution_count": 26,
     "metadata": {},
     "output_type": "execute_result"
    }
   ],
   "source": [
    "Rz(0.5) @ Rz(0.5)"
   ]
  },
  {
   "cell_type": "code",
   "execution_count": 80,
   "id": "b83dba4c-4ec1-4cb6-8082-c32b2c4df3be",
   "metadata": {
    "tags": []
   },
   "outputs": [
    {
     "data": {
      "application/vnd.jupyter.widget-view+json": {
       "model_id": "627c7dba70ce4e4998355fa6f6e1057c",
       "version_major": 2,
       "version_minor": 0
      },
      "text/plain": [
       "  0%|          | 0/25 [00:00<?, ?it/s]"
      ]
     },
     "metadata": {},
     "output_type": "display_data"
    }
   ],
   "source": [
    "X, Y = np.meshgrid(np.linspace(-1, 1, 25), np.linspace(-1, 1, 25))\n",
    "\n",
    "Vals = []\n",
    "for i in tqdm(range(len(Y))):\n",
    "    K = []\n",
    "    for j in range(len(Y)):\n",
    "        K.append(P(X[i][j], Y[i][j]))\n",
    "    Vals.append(K)"
   ]
  },
  {
   "cell_type": "code",
   "execution_count": 81,
   "id": "f3ea6032-1509-4ae3-9b8d-bd1500353fae",
   "metadata": {},
   "outputs": [
    {
     "data": {
      "text/plain": [
       "<matplotlib.colorbar.Colorbar at 0x7f967d7e3eb0>"
      ]
     },
     "execution_count": 81,
     "metadata": {},
     "output_type": "execute_result"
    },
    {
     "data": {
      "image/png": "[encoded data removed]",
      "text/plain": [
       "<Figure size 480x480 with 2 Axes>"
      ]
     },
     "metadata": {},
     "output_type": "display_data"
    }
   ],
   "source": [
    "plt.matshow(np.real(Vals))\n",
    "plt.colorbar()"
   ]
  },
  {
   "cell_type": "code",
   "execution_count": 59,
   "id": "8484a6b2-bf01-4337-93bb-2fe50fc220b9",
   "metadata": {},
   "outputs": [
    {
     "data": {
      "text/plain": [
       "<matplotlib.colorbar.Colorbar at 0x7f967b8497c0>"
      ]
     },
     "execution_count": 59,
     "metadata": {},
     "output_type": "execute_result"
    },
    {
     "data": {
      "image/png": "[encoded data removed]",
      "text/plain": [
       "<Figure size 480x480 with 2 Axes>"
      ]
     },
     "metadata": {},
     "output_type": "display_data"
    }
   ],
   "source": [
    "plt.matshow(np.real(Vals))\n",
    "plt.colorbar()"
   ]
  },
  {
   "cell_type": "code",
   "execution_count": 63,
   "id": "defebb4b-6891-45dd-a5f4-75ac1545e562",
   "metadata": {},
   "outputs": [
    {
     "data": {
      "text/plain": [
       "<matplotlib.colorbar.Colorbar at 0x7f967b7a67c0>"
      ]
     },
     "execution_count": 63,
     "metadata": {},
     "output_type": "execute_result"
    },
    {
     "data": {
      "image/png": "[encoded data removed]",
      "text/plain": [
       "<Figure size 480x480 with 2 Axes>"
      ]
     },
     "metadata": {},
     "output_type": "display_data"
    }
   ],
   "source": [
    "plt.matshow(np.real(Vals))\n",
    "plt.colorbar()"
   ]
  },
  {
   "cell_type": "code",
   "execution_count": null,
   "id": "c620d019-45fa-40d9-bcbf-fe906f39dc95",
   "metadata": {},
   "outputs": [],
   "source": []
  }
 ],
 "metadata": {
  "kernelspec": {
   "display_name": "Python 3 (ipykernel)",
   "language": "python",
   "name": "python3"
  },
  "language_info": {
   "codemirror_mode": {
    "name": "ipython",
    "version": 3
   },
   "file_extension": ".py",
   "mimetype": "text/x-python",
   "name": "python",
   "nbconvert_exporter": "python",
   "pygments_lexer": "ipython3",
   "version": "3.8.10"
  }
 },
 "nbformat": 4,
 "nbformat_minor": 5
}
