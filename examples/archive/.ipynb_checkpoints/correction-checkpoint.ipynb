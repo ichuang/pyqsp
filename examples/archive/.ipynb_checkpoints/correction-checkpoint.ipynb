{
 "cells": [
  {
   "cell_type": "markdown",
   "id": "55f05f78-7a92-4488-85f4-56330c00bdb0",
   "metadata": {},
   "source": [
    "# Correction Protocol"
   ]
  },
  {
   "cell_type": "code",
   "execution_count": 1,
   "id": "eb64070a-c05d-4e3e-a8e7-c5f32f0bf8ed",
   "metadata": {},
   "outputs": [],
   "source": [
    "from pyqsp import *\n",
    "from pyqsp.gadgets import *\n",
    "import numpy as np\n",
    "from matplotlib import pyplot as plt\n",
    "from tqdm.notebook import tqdm"
   ]
  },
  {
   "cell_type": "code",
   "execution_count": 25,
   "id": "2a0a8d9b-61e6-495b-8be7-48623d6605dc",
   "metadata": {},
   "outputs": [],
   "source": [
    "deg = 20 # Degree of extraction\n",
    "\n",
    "# Constructs an atomic gadgets\n",
    "\n",
    "Xi_1 = np.array([[np.pi/3, np.pi/2, -np.pi/2, -np.pi/3]])\n",
    "S_1 = [[0, 1, 0]]\n",
    "G = AtomicGadget(Xi_1, S_1, label=\"G\")\n",
    "\n",
    "Xi_2 = np.array([[np.pi/3, np.pi/2, -np.pi/2, -np.pi/3]])\n",
    "S_2 = [[0, 1, 0]]\n",
    "G_tilde = AtomicGadget(Xi_2, S_2, label=\"G_tilde\")"
   ]
  },
  {
   "cell_type": "code",
   "execution_count": 26,
   "id": "abce9aa0-6445-4573-8e6e-1633ba442ab9",
   "metadata": {},
   "outputs": [],
   "source": [
    "# Performs an interlink of the G gadget with the extraction gadget\n",
    "G_prime = G.interlink(G_tilde, [\n",
    "    (('G', 0), ('G_tilde', 0), 20)\n",
    "])"
   ]
  },
  {
   "cell_type": "code",
   "execution_count": 27,
   "id": "8eea03a3-39cc-4c49-a5ed-ba6d69fc6c73",
   "metadata": {},
   "outputs": [
    {
     "name": "stdout",
     "output_type": "stream",
     "text": [
      "In legs = [('G', 0), ('G', 1), ('G_tilde', 1)]\n",
      "Out legs = [('G_tilde', 0)]\n"
     ]
    }
   ],
   "source": [
    "print(\"In legs = {}\".format(G_prime.in_labels))\n",
    "print(\"Out legs = {}\".format(G_prime.out_labels))"
   ]
  },
  {
   "cell_type": "code",
   "execution_count": 28,
   "id": "41476ec1-4e25-487b-a5ae-ba678c3fe73e",
   "metadata": {},
   "outputs": [
    {
     "name": "stdout",
     "output_type": "stream",
     "text": [
      "[-2.22391946e-30  9.07125041e-29  5.25065819e-27  0.00000000e+00\n",
      " -5.16987883e-24 -1.55509955e-22 -2.42198483e-21 -2.32404665e-20\n",
      " -1.34360601e-19 -2.52415818e-19  3.25938278e-18  3.79470760e-17\n",
      "  2.29335865e-16  9.74203086e-16  3.17909761e-15  8.29458030e-15\n",
      "  1.77045878e-14  3.15719673e-14  4.85167462e-14  6.57529586e-14\n",
      "  7.95474797e-14  1.00000000e+00  7.95474797e-14  6.57529586e-14\n",
      "  4.85167462e-14  3.15719673e-14  1.77045878e-14  8.29458030e-15\n",
      "  3.17909761e-15  9.74203086e-16  2.29335865e-16  3.79470760e-17\n",
      "  3.25938278e-18 -2.52415818e-19 -1.34360601e-19 -2.32404665e-20\n",
      " -2.42198483e-21 -1.55509955e-22 -5.16987883e-24  0.00000000e+00\n",
      "  5.25065819e-27  9.07125041e-29 -2.22391946e-30]\n",
      "[0. 0. 0. 0. 0. 0. 0. 0. 0. 0. 0. 0. 0. 0. 0. 0. 0. 0. 0. 0. 0. 1. 0. 0.\n",
      " 0. 0. 0. 0. 0. 0. 0. 0. 0. 0. 0. 0. 0. 0. 0. 0. 0. 0. 0.]\n",
      "[-2.22391946e-30  9.07125041e-29  5.25065819e-27  0.00000000e+00\n",
      " -5.16987883e-24 -1.55509955e-22 -2.42198483e-21 -2.32404665e-20\n",
      " -1.34360601e-19 -2.52415818e-19  3.25938278e-18  3.79470760e-17\n",
      "  2.29335865e-16  9.74203086e-16  3.17909761e-15  8.29458030e-15\n",
      "  1.77045878e-14  3.15719673e-14  4.85167462e-14  6.57529586e-14\n",
      "  7.95474797e-14  1.00000000e+00  7.95474797e-14  6.57529586e-14\n",
      "  4.85167462e-14  3.15719673e-14  1.77045878e-14  8.29458030e-15\n",
      "  3.17909761e-15  9.74203086e-16  2.29335865e-16  3.79470760e-17\n",
      "  3.25938278e-18 -2.52415818e-19 -1.34360601e-19 -2.32404665e-20\n",
      " -2.42198483e-21 -1.55509955e-22 -5.16987883e-24  0.00000000e+00\n",
      "  5.25065819e-27  9.07125041e-29 -2.22391946e-30]\n",
      "[0. 0. 0. 0. 0. 0. 0. 0. 0. 0. 0. 0. 0. 0. 0. 0. 0. 0. 0. 0. 0. 1. 0. 0.\n",
      " 0. 0. 0. 0. 0. 0. 0. 0. 0. 0. 0. 0. 0. 0. 0. 0. 0. 0. 0.]\n"
     ]
    },
    {
     "data": {
      "text/plain": [
       "267"
      ]
     },
     "execution_count": 28,
     "metadata": {},
     "output_type": "execute_result"
    }
   ],
   "source": [
    "len(G_prime.get_sequence(('G_tilde', 0))[1])"
   ]
  },
  {
   "cell_type": "code",
   "execution_count": null,
   "id": "01a11f38-7aa6-4fa4-815a-f7ed3c0c54b4",
   "metadata": {},
   "outputs": [],
   "source": []
  }
 ],
 "metadata": {
  "kernelspec": {
   "display_name": "Python 3 (ipykernel)",
   "language": "python",
   "name": "python3"
  },
  "language_info": {
   "codemirror_mode": {
    "name": "ipython",
    "version": 3
   },
   "file_extension": ".py",
   "mimetype": "text/x-python",
   "name": "python",
   "nbconvert_exporter": "python",
   "pygments_lexer": "ipython3",
   "version": "3.8.10"
  }
 },
 "nbformat": 4,
 "nbformat_minor": 5
}
