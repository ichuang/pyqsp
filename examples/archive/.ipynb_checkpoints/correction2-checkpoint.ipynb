{
 "cells": [
  {
   "cell_type": "markdown",
   "id": "c2f048a4-cf11-4409-9609-5552467d71da",
   "metadata": {},
   "source": [
    "# Correction protocol v2"
   ]
  },
  {
   "cell_type": "code",
   "execution_count": 3,
   "id": "51e2392a-10aa-4847-88f1-cb98a0025291",
   "metadata": {},
   "outputs": [],
   "source": [
    "import pyqsp\n",
    "from pyqsp.gadgets import *\n",
    "from tqdm.notebook import tqdm\n",
    "from matplotlib import pyplot as plt\n",
    "\n",
    "X = np.array([\n",
    "    [0, 1],\n",
    "    [1, 0]\n",
    "])"
   ]
  },
  {
   "cell_type": "code",
   "execution_count": 4,
   "id": "1ce380b2-d4ce-451d-ab31-0e8fa57f2438",
   "metadata": {},
   "outputs": [],
   "source": [
    "Xi = [[0.5, -0.5]]\n",
    "S = [[0]]\n",
    "\n",
    "# Creates an example atomic gadget\n",
    "G = AtomicGadget(Xi, S, \"G\")\n",
    "\n",
    "# Creates and extraction gadget\n",
    "deg = 29\n",
    "G_ext = ExtractionGadget(deg, \"G_ext\")"
   ]
  },
  {
   "cell_type": "code",
   "execution_count": 5,
   "id": "efe52180-c534-4156-a382-d529526252d1",
   "metadata": {},
   "outputs": [],
   "source": [
    "#G_ext_int = G.interlink(G_ext, [((\"G\", 0), (\"G_ext\", 0), None)])"
   ]
  },
  {
   "cell_type": "code",
   "execution_count": 6,
   "id": "b62fb312-eae5-4723-90b4-81a8777ac5b1",
   "metadata": {},
   "outputs": [],
   "source": [
    "U = G_ext.get_qsp_unitary(('G_ext', 0), rot={('G_ext', 0) : 0.5}) # Gets the corresponding QSP unitary"
   ]
  },
  {
   "cell_type": "code",
   "execution_count": 7,
   "id": "fc526818-754e-4968-b638-d0db28dccfe1",
   "metadata": {},
   "outputs": [],
   "source": [
    "# Demonstrates that the extraction protocol has succeeded\n",
    "P = lambda x : U({('G_ext', 0): x}) # QSP polynomial"
   ]
  },
  {
   "cell_type": "code",
   "execution_count": 8,
   "id": "9bf7525b-b163-495e-83b8-5a0122c970ef",
   "metadata": {},
   "outputs": [
    {
     "data": {
      "text/plain": [
       "array([[ 9.99999998e-01+6.21742946e-05j,  3.80098019e-06-7.90069052e-06j],\n",
       "       [-3.80098019e-06-7.90069052e-06j,  9.99999998e-01-6.21742946e-05j]])"
      ]
     },
     "execution_count": 8,
     "metadata": {},
     "output_type": "execute_result"
    }
   ],
   "source": [
    "1j * X @ P(0.1) @ (Rz(0.5) @ Rz(0.5))"
   ]
  },
  {
   "cell_type": "code",
   "execution_count": null,
   "id": "9485b4f4-ef78-4cf0-bea1-6a2218313e11",
   "metadata": {},
   "outputs": [],
   "source": []
  }
 ],
 "metadata": {
  "kernelspec": {
   "display_name": "Python 3 (ipykernel)",
   "language": "python",
   "name": "python3"
  },
  "language_info": {
   "codemirror_mode": {
    "name": "ipython",
    "version": 3
   },
   "file_extension": ".py",
   "mimetype": "text/x-python",
   "name": "python",
   "nbconvert_exporter": "python",
   "pygments_lexer": "ipython3",
   "version": "3.8.10"
  }
 },
 "nbformat": 4,
 "nbformat_minor": 5
}
