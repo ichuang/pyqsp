{
 "cells": [
  {
   "cell_type": "markdown",
   "id": "293eddfc-00ee-4fbf-a243-358a8758f84d",
   "metadata": {
    "tags": []
   },
   "source": [
    "# Testing the correction protocol"
   ]
  },
  {
   "cell_type": "code",
   "execution_count": 84,
   "id": "8f61f147-09f0-4c39-a42b-9a11bddc7198",
   "metadata": {},
   "outputs": [],
   "source": [
    "import pyqsp\n",
    "from pyqsp.gadgets import *\n",
    "import numpy as np\n",
    "import pennylane as qml\n",
    "\n",
    "np.set_printoptions(linewidth=100000)"
   ]
  },
  {
   "cell_type": "code",
   "execution_count": 85,
   "id": "f7273491-b2f8-4c9e-9ae0-ee12cfba34d3",
   "metadata": {},
   "outputs": [],
   "source": [
    "n = 24\n",
    "\n",
    "L = ExtractionGadget(n, 'G').get_sequence(('G', 0))\n",
    "L_prime = ExtractionGadget(n, 'G').get_sequence(('G', 0))\n",
    "\n",
    "Phi, Phi_prime = [], []\n",
    "\n",
    "for op in L:\n",
    "    if isinstance(op, QSP_Rotation):\n",
    "        Phi.append(op.theta)\n",
    "        \n",
    "for op in L_prime:\n",
    "    if isinstance(op, QSP_Signal):\n",
    "        Phi_prime.append(op)"
   ]
  },
  {
   "cell_type": "code",
   "execution_count": 86,
   "id": "8a1de2a6-735a-4e37-8e80-f655ea9ce189",
   "metadata": {},
   "outputs": [],
   "source": [
    "Phi = Phi[::-1]\n",
    "Phi_prime = Phi_prime[::-1]"
   ]
  },
  {
   "cell_type": "code",
   "execution_count": 87,
   "id": "3794bb0b-9592-4a7d-b778-250b89325245",
   "metadata": {},
   "outputs": [
    {
     "data": {
      "text/plain": [
       "25"
      ]
     },
     "execution_count": 87,
     "metadata": {},
     "output_type": "execute_result"
    }
   ],
   "source": [
    "len(Phi_prime)"
   ]
  },
  {
   "cell_type": "code",
   "execution_count": 88,
   "id": "920b8ea4-462b-4532-8d09-9e9cb15ebe54",
   "metadata": {},
   "outputs": [],
   "source": [
    "# Testing the protocol!\n",
    "\n",
    "dev = qml.device('default.qubit', wires=[0, 1, 2])\n",
    "\n",
    "def V():\n",
    "    qml.CSWAP(wires=[0, 1, 2])\n",
    "    qml.RX(0.4, wires=2)\n",
    "    qml.CSWAP(wires=[0, 1, 2])\n",
    "\n",
    "@qml.qnode(dev)\n",
    "def func():\n",
    "    for p in range(len(Phi[0:len(Phi)-2])):\n",
    "        qml.RZ(Phi[p], wires=2)"
   ]
  },
  {
   "cell_type": "code",
   "execution_count": 89,
   "id": "e9820ce2-506d-4885-97fb-e826feb612d5",
   "metadata": {},
   "outputs": [],
   "source": [
    "dev = qml.device('default.qubit', wires=[0, 1, 2])\n",
    "\n",
    "@qml.qnode(dev)\n",
    "def func():\n",
    "    qml.RZ(-0.8, wires=2)\n",
    "    qml.CSWAP(wires=[0, 1, 2])\n",
    "    qml.RZ(0.8, wires=1)\n",
    "    qml.CSWAP(wires=[0, 1, 2])\n",
    "    return qml.state()"
   ]
  },
  {
   "cell_type": "code",
   "execution_count": 130,
   "id": "5e322a89-e448-48b5-b958-a88be990f544",
   "metadata": {},
   "outputs": [
    {
     "data": {
      "text/plain": [
       "(0.6967067093471654+0.7173560908995228j)"
      ]
     },
     "execution_count": 130,
     "metadata": {},
     "output_type": "execute_result"
    }
   ],
   "source": [
    "qml.matrix(func)()[2][2]"
   ]
  },
  {
   "cell_type": "code",
   "execution_count": 129,
   "id": "e79f1f98-2d51-43b8-95d0-51d8858f75c4",
   "metadata": {},
   "outputs": [
    {
     "data": {
      "text/plain": [
       "0.9210609940028851"
      ]
     },
     "execution_count": 129,
     "metadata": {},
     "output_type": "execute_result"
    }
   ],
   "source": [
    "np.cos(0.4)"
   ]
  },
  {
   "cell_type": "code",
   "execution_count": 37,
   "id": "3cd8f545-68a1-4a9a-8003-808d0001aeb0",
   "metadata": {},
   "outputs": [
    {
     "data": {
      "text/plain": [
       "array([[1., 0., 0., 0., 0., 0., 0., 0.],\n",
       "       [0., 0., 0., 0., 1., 0., 0., 0.],\n",
       "       [0., 0., 1., 0., 0., 0., 0., 0.],\n",
       "       [0., 0., 0., 1., 0., 0., 0., 0.],\n",
       "       [0., 1., 0., 0., 0., 0., 0., 0.],\n",
       "       [0., 0., 0., 0., 0., 1., 0., 0.],\n",
       "       [0., 0., 0., 0., 0., 0., 1., 0.],\n",
       "       [0., 0., 0., 0., 0., 0., 0., 1.]])"
      ]
     },
     "execution_count": 37,
     "metadata": {},
     "output_type": "execute_result"
    }
   ],
   "source": [
    "Corrective_CSWAP(1).matrix([1])"
   ]
  },
  {
   "cell_type": "code",
   "execution_count": 38,
   "id": "1bb9a5dc-1e2d-477f-889e-61cc38a63b5a",
   "metadata": {},
   "outputs": [],
   "source": [
    "# Constructs an atomic gadgets\n",
    "Xi_1 = np.array([[0, 0]])\n",
    "S_1 = [[0]]\n",
    "G1 = AtomicGadget(Xi_1, S_1, label=\"G1\")\n",
    "\n",
    "Xi_2 = np.array([[1, 2, -2, -1]])\n",
    "S_2 = [[0, 1, 0]]\n",
    "G2 = AtomicGadget(Xi_2, S_2, label=\"G2\")"
   ]
  },
  {
   "cell_type": "code",
   "execution_count": 39,
   "id": "f203981d-67f2-4e9b-9e53-646ae70a1d59",
   "metadata": {},
   "outputs": [],
   "source": [
    "# Constructs the interlink between the gadgets\n",
    "G = G1.interlink(G2, [(('G1', 0), ('G2', 0), 20)])"
   ]
  },
  {
   "cell_type": "code",
   "execution_count": 40,
   "id": "0a1d7c00-1f98-44b5-af0a-7297210e0a20",
   "metadata": {},
   "outputs": [
    {
     "data": {
      "text/plain": [
       "40"
      ]
     },
     "execution_count": 40,
     "metadata": {},
     "output_type": "execute_result"
    }
   ],
   "source": [
    "len(G1.get_sequence(('G1', 0), correction=8))"
   ]
  },
  {
   "cell_type": "code",
   "execution_count": 41,
   "id": "c7381884-c235-4f59-bd75-284134a911f9",
   "metadata": {},
   "outputs": [],
   "source": [
    "# Gets the QSP unitary\n",
    "U = lambda x : G1.get_qsp_unitary(('G1', 0), correction=20, rot={('G1', 0):0.4})( {('G1', 0) : x})"
   ]
  },
  {
   "cell_type": "code",
   "execution_count": 42,
   "id": "e99ac66d-1b19-46b5-86d5-b1fa8e608a40",
   "metadata": {},
   "outputs": [
    {
     "data": {
      "text/plain": [
       "array([ 0.00000000e+00+0.00000000e+00j,  0.00000000e+00+0.00000000e+00j, -6.96706709e-01+7.17356091e-01j,  0.00000000e+00+0.00000000e+00j,  0.00000000e+00+0.00000000e+00j,  0.00000000e+00+0.00000000e+00j, -7.53257564e-07-7.31480981e-07j,  0.00000000e+00+0.00000000e+00j])"
      ]
     },
     "execution_count": 42,
     "metadata": {},
     "output_type": "execute_result"
    }
   ],
   "source": [
    "U(0.3) @ np.kron(np.kron(np.array([1, 0]), np.array([0, 1])), np.array([1, 0]))"
   ]
  },
  {
   "cell_type": "code",
   "execution_count": 43,
   "id": "60fe8538-88f6-4af8-ab02-75d3070bb9f7",
   "metadata": {},
   "outputs": [
    {
     "data": {
      "text/plain": [
       "0.7173560908995228"
      ]
     },
     "execution_count": 43,
     "metadata": {},
     "output_type": "execute_result"
    }
   ],
   "source": [
    "np.sin(0.8)"
   ]
  },
  {
   "cell_type": "code",
   "execution_count": 20,
   "id": "d23356f4-338c-446a-9bcb-ef6f76e5f72e",
   "metadata": {},
   "outputs": [
    {
     "data": {
      "text/plain": [
       "(0.9210609940028851+0.3894183423086505j)"
      ]
     },
     "execution_count": 20,
     "metadata": {},
     "output_type": "execute_result"
    }
   ],
   "source": [
    "np.cos(0.4) + 1j * np.sin(0.4)"
   ]
  },
  {
   "cell_type": "code",
   "execution_count": 21,
   "id": "d1cb6dbd-ac02-4d2d-b25e-33194b9384e5",
   "metadata": {},
   "outputs": [
    {
     "data": {
      "text/plain": [
       "0j"
      ]
     },
     "execution_count": 21,
     "metadata": {},
     "output_type": "execute_result"
    }
   ],
   "source": [
    "U(0.3)[3][0]"
   ]
  },
  {
   "cell_type": "code",
   "execution_count": 22,
   "id": "597fa79a-b023-4514-b33a-75c8066b9635",
   "metadata": {},
   "outputs": [
    {
     "data": {
      "text/plain": [
       "array([0., 0., 0., 1.])"
      ]
     },
     "execution_count": 22,
     "metadata": {},
     "output_type": "execute_result"
    }
   ],
   "source": [
    "np.kron(np.array([[0, 1], [1, 0]]), np.eye(2)) @ np.array([0, 1, 0, 0])"
   ]
  },
  {
   "cell_type": "code",
   "execution_count": 23,
   "id": "72712c91-a006-4a41-ad11-ed34b467b124",
   "metadata": {},
   "outputs": [
    {
     "data": {
      "text/plain": [
       "(-0.7137602983769397+0.6932144231483228j)"
      ]
     },
     "execution_count": 23,
     "metadata": {},
     "output_type": "execute_result"
    }
   ],
   "source": [
    "(np.cos(0.8) + 1j * np.sin(0.8)) * (1j * np.sqrt(1 - 0.1 ** 2))"
   ]
  },
  {
   "cell_type": "code",
   "execution_count": 24,
   "id": "cf8b2157-6caf-4c72-bcde-bc83f5703038",
   "metadata": {},
   "outputs": [
    {
     "data": {
      "text/plain": [
       "0.99498743710662j"
      ]
     },
     "execution_count": 24,
     "metadata": {},
     "output_type": "execute_result"
    }
   ],
   "source": [
    "(1j * np.sqrt(1 - 0.1 ** 2))"
   ]
  },
  {
   "cell_type": "code",
   "execution_count": null,
   "id": "b94b6a56-84d4-468a-9bd6-57328c9a9d93",
   "metadata": {},
   "outputs": [],
   "source": []
  }
 ],
 "metadata": {
  "kernelspec": {
   "display_name": "Python 3 (ipykernel)",
   "language": "python",
   "name": "python3"
  },
  "language_info": {
   "codemirror_mode": {
    "name": "ipython",
    "version": 3
   },
   "file_extension": ".py",
   "mimetype": "text/x-python",
   "name": "python",
   "nbconvert_exporter": "python",
   "pygments_lexer": "ipython3",
   "version": "3.8.10"
  }
 },
 "nbformat": 4,
 "nbformat_minor": 5
}
